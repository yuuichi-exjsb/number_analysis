from math import*
import matplotlib
import matplotlib.pyplot as plt

# In[2]:


def f1(x):
    return exp(x)


# In[3]:


def f2(x):
    return cos(x)


# In[11]:

def xi(i,xs,xe,ndiv):
    return xs*(ndiv-i)/nidiv+xe*i/ndiv

def Daikei(a,b,N):
    fig = plot.figure()
    graph = fig.add_subplot()
    graph.set_xlim(a,b)

#f(x)
    px = []
    py = []
    M = 1000

    for i in range(M+1):
      x = xi(i,a,b,M)
      px += [x]
      y = f(x)
      py += [y]
    graph.plot(px,py)

    for i in range(N):
      px = []
      py = []
      xs = xi(i,a,b,n)
      ys = f(xs)
      px += [xs]
      py += [ys]
      xe = xi(i+1,a,b,N)
      ye = f(xe)
      px = [xe]
      py = [ye]

      px = [xs]+px+[xs]+[xs]
      py = [0]+py+[0]+[0]

  plt.show()

N = 1
a = 0
b = pi*2

Daikei(a,b,N)
